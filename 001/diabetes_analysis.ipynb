{
  "nbformat": 4,
  "nbformat_minor": 0,
  "metadata": {
    "colab": {
      "name": "diabetes_analysis.ipynb",
      "provenance": [],
      "collapsed_sections": []
    },
    "kernelspec": {
      "name": "python3",
      "display_name": "Python 3"
    }
  },
  "cells": [
    {
      "cell_type": "code",
      "metadata": {
        "id": "OqW2GDGafDQH"
      },
      "source": [
        "import numpy as np\r\n",
        "import pandas as pd\r\n",
        "from matplotlib import pyplot as plt\r\n",
        "import seaborn as sns\r\n",
        "from sklearn.datasets import load_diabetes\r\n",
        "%matplotlib inline\r\n",
        "sns.set()"
      ],
      "execution_count": null,
      "outputs": []
    },
    {
      "cell_type": "code",
      "metadata": {
        "id": "24EaK6b4jxDb"
      },
      "source": [
        "import warnings\r\n",
        "warnings.simplefilter(action='ignore', category=FutureWarning)"
      ],
      "execution_count": null,
      "outputs": []
    },
    {
      "cell_type": "markdown",
      "metadata": {
        "id": "enCvLMgFgGcL"
      },
      "source": [
        "## Data Loding"
      ]
    },
    {
      "cell_type": "code",
      "metadata": {
        "colab": {
          "base_uri": "https://localhost:8080/"
        },
        "id": "V7zBzp6EfQxJ",
        "outputId": "68fb6064-a060-4c25-fcfc-85fae87d4127"
      },
      "source": [
        "!wget https://www4.stat.ncsu.edu/~boos/var.select/diabetes.tab.txt"
      ],
      "execution_count": null,
      "outputs": [
        {
          "output_type": "stream",
          "text": [
            "--2021-01-06 13:08:24--  https://www4.stat.ncsu.edu/~boos/var.select/diabetes.tab.txt\n",
            "Resolving www4.stat.ncsu.edu (www4.stat.ncsu.edu)... 152.1.62.52\n",
            "Connecting to www4.stat.ncsu.edu (www4.stat.ncsu.edu)|152.1.62.52|:443... connected.\n",
            "HTTP request sent, awaiting response... 200 OK\n",
            "Length: 18496 (18K) [text/plain]\n",
            "Saving to: ‘diabetes.tab.txt’\n",
            "\n",
            "diabetes.tab.txt    100%[===================>]  18.06K  --.-KB/s    in 0.02s   \n",
            "\n",
            "2021-01-06 13:08:25 (895 KB/s) - ‘diabetes.tab.txt’ saved [18496/18496]\n",
            "\n"
          ],
          "name": "stdout"
        }
      ]
    },
    {
      "cell_type": "code",
      "metadata": {
        "colab": {
          "base_uri": "https://localhost:8080/"
        },
        "id": "kX1uDsD8hiKZ",
        "outputId": "d191219b-da91-4588-a749-4118cb3af3a5"
      },
      "source": [
        "!ls"
      ],
      "execution_count": null,
      "outputs": [
        {
          "output_type": "stream",
          "text": [
            "diabetes.tab.txt  sample_data\n"
          ],
          "name": "stdout"
        }
      ]
    },
    {
      "cell_type": "markdown",
      "metadata": {
        "id": "oj3jR6P5iSwa"
      },
      "source": [
        "Source URL: https://www4.stat.ncsu.edu/~boos/var.select/diabetes.html\r\n",
        "\r\n",
        "    Additional Information about the features\r\n",
        "        age : age in years\r\n",
        "        sex :\r\n",
        "        bmi : body mass index\r\n",
        "        bp  : average blood pressure\r\n",
        "        s1  : tc, T-Cells (a type of white blood cells)\r\n",
        "        s2  : ldl, low-density lipoproteins\r\n",
        "        s3  : hdl, high-density lipoproteins\r\n",
        "        s4  : tch, thyroid stimulating hormone\r\n",
        "        s5  : ltg, lamotrigine\r\n",
        "        s6  : glu, blood sugar level"
      ]
    },
    {
      "cell_type": "code",
      "metadata": {
        "colab": {
          "base_uri": "https://localhost:8080/",
          "height": 195
        },
        "id": "kWVJzvheh0Y2",
        "outputId": "b2dd2b94-75d5-48ab-dfd1-fee3f8876ac6"
      },
      "source": [
        "df = pd.read_csv('diabetes.tab.txt',sep='\\t')\r\n",
        "df.head()"
      ],
      "execution_count": null,
      "outputs": [
        {
          "output_type": "execute_result",
          "data": {
            "text/html": [
              "<div>\n",
              "<style scoped>\n",
              "    .dataframe tbody tr th:only-of-type {\n",
              "        vertical-align: middle;\n",
              "    }\n",
              "\n",
              "    .dataframe tbody tr th {\n",
              "        vertical-align: top;\n",
              "    }\n",
              "\n",
              "    .dataframe thead th {\n",
              "        text-align: right;\n",
              "    }\n",
              "</style>\n",
              "<table border=\"1\" class=\"dataframe\">\n",
              "  <thead>\n",
              "    <tr style=\"text-align: right;\">\n",
              "      <th></th>\n",
              "      <th>AGE</th>\n",
              "      <th>SEX</th>\n",
              "      <th>BMI</th>\n",
              "      <th>BP</th>\n",
              "      <th>S1</th>\n",
              "      <th>S2</th>\n",
              "      <th>S3</th>\n",
              "      <th>S4</th>\n",
              "      <th>S5</th>\n",
              "      <th>S6</th>\n",
              "      <th>Y</th>\n",
              "    </tr>\n",
              "  </thead>\n",
              "  <tbody>\n",
              "    <tr>\n",
              "      <th>0</th>\n",
              "      <td>59</td>\n",
              "      <td>2</td>\n",
              "      <td>32.1</td>\n",
              "      <td>101.0</td>\n",
              "      <td>157</td>\n",
              "      <td>93.2</td>\n",
              "      <td>38.0</td>\n",
              "      <td>4.0</td>\n",
              "      <td>4.8598</td>\n",
              "      <td>87</td>\n",
              "      <td>151</td>\n",
              "    </tr>\n",
              "    <tr>\n",
              "      <th>1</th>\n",
              "      <td>48</td>\n",
              "      <td>1</td>\n",
              "      <td>21.6</td>\n",
              "      <td>87.0</td>\n",
              "      <td>183</td>\n",
              "      <td>103.2</td>\n",
              "      <td>70.0</td>\n",
              "      <td>3.0</td>\n",
              "      <td>3.8918</td>\n",
              "      <td>69</td>\n",
              "      <td>75</td>\n",
              "    </tr>\n",
              "    <tr>\n",
              "      <th>2</th>\n",
              "      <td>72</td>\n",
              "      <td>2</td>\n",
              "      <td>30.5</td>\n",
              "      <td>93.0</td>\n",
              "      <td>156</td>\n",
              "      <td>93.6</td>\n",
              "      <td>41.0</td>\n",
              "      <td>4.0</td>\n",
              "      <td>4.6728</td>\n",
              "      <td>85</td>\n",
              "      <td>141</td>\n",
              "    </tr>\n",
              "    <tr>\n",
              "      <th>3</th>\n",
              "      <td>24</td>\n",
              "      <td>1</td>\n",
              "      <td>25.3</td>\n",
              "      <td>84.0</td>\n",
              "      <td>198</td>\n",
              "      <td>131.4</td>\n",
              "      <td>40.0</td>\n",
              "      <td>5.0</td>\n",
              "      <td>4.8903</td>\n",
              "      <td>89</td>\n",
              "      <td>206</td>\n",
              "    </tr>\n",
              "    <tr>\n",
              "      <th>4</th>\n",
              "      <td>50</td>\n",
              "      <td>1</td>\n",
              "      <td>23.0</td>\n",
              "      <td>101.0</td>\n",
              "      <td>192</td>\n",
              "      <td>125.4</td>\n",
              "      <td>52.0</td>\n",
              "      <td>4.0</td>\n",
              "      <td>4.2905</td>\n",
              "      <td>80</td>\n",
              "      <td>135</td>\n",
              "    </tr>\n",
              "  </tbody>\n",
              "</table>\n",
              "</div>"
            ],
            "text/plain": [
              "   AGE  SEX   BMI     BP   S1     S2    S3   S4      S5  S6    Y\n",
              "0   59    2  32.1  101.0  157   93.2  38.0  4.0  4.8598  87  151\n",
              "1   48    1  21.6   87.0  183  103.2  70.0  3.0  3.8918  69   75\n",
              "2   72    2  30.5   93.0  156   93.6  41.0  4.0  4.6728  85  141\n",
              "3   24    1  25.3   84.0  198  131.4  40.0  5.0  4.8903  89  206\n",
              "4   50    1  23.0  101.0  192  125.4  52.0  4.0  4.2905  80  135"
            ]
          },
          "metadata": {
            "tags": []
          },
          "execution_count": 5
        }
      ]
    },
    {
      "cell_type": "code",
      "metadata": {
        "colab": {
          "base_uri": "https://localhost:8080/"
        },
        "id": "pPYyEHiJh_g6",
        "outputId": "f3f752ff-881a-4a25-a62e-2d9f84116542"
      },
      "source": [
        "df.isnull().sum(axis=0)"
      ],
      "execution_count": null,
      "outputs": [
        {
          "output_type": "execute_result",
          "data": {
            "text/plain": [
              "AGE    0\n",
              "SEX    0\n",
              "BMI    0\n",
              "BP     0\n",
              "S1     0\n",
              "S2     0\n",
              "S3     0\n",
              "S4     0\n",
              "S5     0\n",
              "S6     0\n",
              "Y      0\n",
              "dtype: int64"
            ]
          },
          "metadata": {
            "tags": []
          },
          "execution_count": 6
        }
      ]
    },
    {
      "cell_type": "code",
      "metadata": {
        "colab": {
          "base_uri": "https://localhost:8080/"
        },
        "id": "N5tSIV7qi-_t",
        "outputId": "fc519e9b-16d7-4a21-dbda-e12e751685f6"
      },
      "source": [
        "df.info()"
      ],
      "execution_count": null,
      "outputs": [
        {
          "output_type": "stream",
          "text": [
            "<class 'pandas.core.frame.DataFrame'>\n",
            "RangeIndex: 442 entries, 0 to 441\n",
            "Data columns (total 11 columns):\n",
            " #   Column  Non-Null Count  Dtype  \n",
            "---  ------  --------------  -----  \n",
            " 0   AGE     442 non-null    int64  \n",
            " 1   SEX     442 non-null    int64  \n",
            " 2   BMI     442 non-null    float64\n",
            " 3   BP      442 non-null    float64\n",
            " 4   S1      442 non-null    int64  \n",
            " 5   S2      442 non-null    float64\n",
            " 6   S3      442 non-null    float64\n",
            " 7   S4      442 non-null    float64\n",
            " 8   S5      442 non-null    float64\n",
            " 9   S6      442 non-null    int64  \n",
            " 10  Y       442 non-null    int64  \n",
            "dtypes: float64(6), int64(5)\n",
            "memory usage: 38.1 KB\n"
          ],
          "name": "stdout"
        }
      ]
    },
    {
      "cell_type": "code",
      "metadata": {
        "colab": {
          "base_uri": "https://localhost:8080/",
          "height": 284
        },
        "id": "zt8E1wB5jKQZ",
        "outputId": "b713fa9b-ab23-496c-fb9a-63c1bc602e56"
      },
      "source": [
        "df.describe().drop(['SEX','Y'],axis=1)"
      ],
      "execution_count": null,
      "outputs": [
        {
          "output_type": "execute_result",
          "data": {
            "text/html": [
              "<div>\n",
              "<style scoped>\n",
              "    .dataframe tbody tr th:only-of-type {\n",
              "        vertical-align: middle;\n",
              "    }\n",
              "\n",
              "    .dataframe tbody tr th {\n",
              "        vertical-align: top;\n",
              "    }\n",
              "\n",
              "    .dataframe thead th {\n",
              "        text-align: right;\n",
              "    }\n",
              "</style>\n",
              "<table border=\"1\" class=\"dataframe\">\n",
              "  <thead>\n",
              "    <tr style=\"text-align: right;\">\n",
              "      <th></th>\n",
              "      <th>AGE</th>\n",
              "      <th>BMI</th>\n",
              "      <th>BP</th>\n",
              "      <th>S1</th>\n",
              "      <th>S2</th>\n",
              "      <th>S3</th>\n",
              "      <th>S4</th>\n",
              "      <th>S5</th>\n",
              "      <th>S6</th>\n",
              "    </tr>\n",
              "  </thead>\n",
              "  <tbody>\n",
              "    <tr>\n",
              "      <th>count</th>\n",
              "      <td>442.000000</td>\n",
              "      <td>442.000000</td>\n",
              "      <td>442.000000</td>\n",
              "      <td>442.000000</td>\n",
              "      <td>442.000000</td>\n",
              "      <td>442.000000</td>\n",
              "      <td>442.000000</td>\n",
              "      <td>442.000000</td>\n",
              "      <td>442.000000</td>\n",
              "    </tr>\n",
              "    <tr>\n",
              "      <th>mean</th>\n",
              "      <td>48.518100</td>\n",
              "      <td>26.375792</td>\n",
              "      <td>94.647014</td>\n",
              "      <td>189.140271</td>\n",
              "      <td>115.439140</td>\n",
              "      <td>49.788462</td>\n",
              "      <td>4.070249</td>\n",
              "      <td>4.641411</td>\n",
              "      <td>91.260181</td>\n",
              "    </tr>\n",
              "    <tr>\n",
              "      <th>std</th>\n",
              "      <td>13.109028</td>\n",
              "      <td>4.418122</td>\n",
              "      <td>13.831283</td>\n",
              "      <td>34.608052</td>\n",
              "      <td>30.413081</td>\n",
              "      <td>12.934202</td>\n",
              "      <td>1.290450</td>\n",
              "      <td>0.522391</td>\n",
              "      <td>11.496335</td>\n",
              "    </tr>\n",
              "    <tr>\n",
              "      <th>min</th>\n",
              "      <td>19.000000</td>\n",
              "      <td>18.000000</td>\n",
              "      <td>62.000000</td>\n",
              "      <td>97.000000</td>\n",
              "      <td>41.600000</td>\n",
              "      <td>22.000000</td>\n",
              "      <td>2.000000</td>\n",
              "      <td>3.258100</td>\n",
              "      <td>58.000000</td>\n",
              "    </tr>\n",
              "    <tr>\n",
              "      <th>25%</th>\n",
              "      <td>38.250000</td>\n",
              "      <td>23.200000</td>\n",
              "      <td>84.000000</td>\n",
              "      <td>164.250000</td>\n",
              "      <td>96.050000</td>\n",
              "      <td>40.250000</td>\n",
              "      <td>3.000000</td>\n",
              "      <td>4.276700</td>\n",
              "      <td>83.250000</td>\n",
              "    </tr>\n",
              "    <tr>\n",
              "      <th>50%</th>\n",
              "      <td>50.000000</td>\n",
              "      <td>25.700000</td>\n",
              "      <td>93.000000</td>\n",
              "      <td>186.000000</td>\n",
              "      <td>113.000000</td>\n",
              "      <td>48.000000</td>\n",
              "      <td>4.000000</td>\n",
              "      <td>4.620050</td>\n",
              "      <td>91.000000</td>\n",
              "    </tr>\n",
              "    <tr>\n",
              "      <th>75%</th>\n",
              "      <td>59.000000</td>\n",
              "      <td>29.275000</td>\n",
              "      <td>105.000000</td>\n",
              "      <td>209.750000</td>\n",
              "      <td>134.500000</td>\n",
              "      <td>57.750000</td>\n",
              "      <td>5.000000</td>\n",
              "      <td>4.997200</td>\n",
              "      <td>98.000000</td>\n",
              "    </tr>\n",
              "    <tr>\n",
              "      <th>max</th>\n",
              "      <td>79.000000</td>\n",
              "      <td>42.200000</td>\n",
              "      <td>133.000000</td>\n",
              "      <td>301.000000</td>\n",
              "      <td>242.400000</td>\n",
              "      <td>99.000000</td>\n",
              "      <td>9.090000</td>\n",
              "      <td>6.107000</td>\n",
              "      <td>124.000000</td>\n",
              "    </tr>\n",
              "  </tbody>\n",
              "</table>\n",
              "</div>"
            ],
            "text/plain": [
              "              AGE         BMI          BP  ...          S4          S5          S6\n",
              "count  442.000000  442.000000  442.000000  ...  442.000000  442.000000  442.000000\n",
              "mean    48.518100   26.375792   94.647014  ...    4.070249    4.641411   91.260181\n",
              "std     13.109028    4.418122   13.831283  ...    1.290450    0.522391   11.496335\n",
              "min     19.000000   18.000000   62.000000  ...    2.000000    3.258100   58.000000\n",
              "25%     38.250000   23.200000   84.000000  ...    3.000000    4.276700   83.250000\n",
              "50%     50.000000   25.700000   93.000000  ...    4.000000    4.620050   91.000000\n",
              "75%     59.000000   29.275000  105.000000  ...    5.000000    4.997200   98.000000\n",
              "max     79.000000   42.200000  133.000000  ...    9.090000    6.107000  124.000000\n",
              "\n",
              "[8 rows x 9 columns]"
            ]
          },
          "metadata": {
            "tags": []
          },
          "execution_count": 8
        }
      ]
    },
    {
      "cell_type": "code",
      "metadata": {
        "colab": {
          "base_uri": "https://localhost:8080/",
          "height": 285
        },
        "id": "RQa5xLUEjRIg",
        "outputId": "0bd002dc-09d1-4621-b475-cefe1050bc3d"
      },
      "source": [
        "sns.countplot('SEX',data=df);"
      ],
      "execution_count": null,
      "outputs": [
        {
          "output_type": "display_data",
          "data": {
            "image/png": "[encoded data removed]",
            "text/plain": [
              "<Figure size 432x288 with 1 Axes>"
            ]
          },
          "metadata": {
            "tags": [],
            "needs_background": "light"
          }
        }
      ]
    },
    {
      "cell_type": "code",
      "metadata": {
        "colab": {
          "base_uri": "https://localhost:8080/",
          "height": 288
        },
        "id": "Uf8_OQJ9jbK0",
        "outputId": "129afa05-2051-4c18-f430-9a401d1f9ca5"
      },
      "source": [
        "sns.distplot(df['AGE']);"
      ],
      "execution_count": null,
      "outputs": [
        {
          "output_type": "display_data",
          "data": {
            "image/png": "[encoded data removed]",
            "text/plain": [
              "<Figure size 432x288 with 1 Axes>"
            ]
          },
          "metadata": {
            "tags": [],
            "needs_background": "light"
          }
        }
      ]
    },
    {
      "cell_type": "code",
      "metadata": {
        "colab": {
          "base_uri": "https://localhost:8080/",
          "height": 746
        },
        "id": "vROIHk9Ul1Hs",
        "outputId": "2ea8c91e-8528-449d-a0f2-73b66b5ef958"
      },
      "source": [
        "cols = ['BMI','BP','S1','S2','S3','S4','S5','S6']\r\n",
        "nrows = 4\r\n",
        "ncols = 2\r\n",
        "fig, axes = plt.subplots(4, 2, figsize=(12, 10))\r\n",
        "index = 0\r\n",
        "for row in range(nrows):\r\n",
        "    for col in range(ncols):\r\n",
        "        sns.distplot(df[cols[index]], ax=axes[row,col])\r\n",
        "        index += 1\r\n",
        "fig.tight_layout()\r\n",
        "print(' '*30,'Histogram for all the Neumerical Feafures')\r\n",
        "plt.show();"
      ],
      "execution_count": null,
      "outputs": [
        {
          "output_type": "stream",
          "text": [
            "                               Histogram for all the Neumerical Feafures\n"
          ],
          "name": "stdout"
        },
        {
          "output_type": "display_data",
          "data": {
            "image/png": "[encoded data removed]",
            "text/plain": [
              "<Figure size 864x720 with 8 Axes>"
            ]
          },
          "metadata": {
            "tags": [],
            "needs_background": "light"
          }
        }
      ]
    },
    {
      "cell_type": "code",
      "metadata": {
        "colab": {
          "base_uri": "https://localhost:8080/",
          "height": 302
        },
        "id": "oAcJr2N_Jm9c",
        "outputId": "c7189af3-cf35-45be-bd2b-dd02beb4fdbe"
      },
      "source": [
        "sns.lineplot(data=df,y='AGE',x='S4')"
      ],
      "execution_count": null,
      "outputs": [
        {
          "output_type": "execute_result",
          "data": {
            "text/plain": [
              "<matplotlib.axes._subplots.AxesSubplot at 0x7f2c11ad19e8>"
            ]
          },
          "metadata": {
            "tags": []
          },
          "execution_count": 12
        },
        {
          "output_type": "display_data",
          "data": {
            "image/png": "[encoded data removed]",
            "text/plain": [
              "<Figure size 432x288 with 1 Axes>"
            ]
          },
          "metadata": {
            "tags": [],
            "needs_background": "light"
          }
        }
      ]
    },
    {
      "cell_type": "code",
      "metadata": {
        "colab": {
          "base_uri": "https://localhost:8080/",
          "height": 598
        },
        "id": "RYc0R_ppLtf3",
        "outputId": "03b85750-1193-48d0-e45e-d46ff44117b0"
      },
      "source": [
        "plt.figure(figsize=(12,10))\r\n",
        "sns.heatmap(df.drop(['SEX'],axis=1).corr(),annot=True);"
      ],
      "execution_count": null,
      "outputs": [
        {
          "output_type": "display_data",
          "data": {
            "image/png": "[encoded data removed]",
            "text/plain": [
              "<Figure size 864x720 with 2 Axes>"
            ]
          },
          "metadata": {
            "tags": [],
            "needs_background": "light"
          }
        }
      ]
    },
    {
      "cell_type": "code",
      "metadata": {
        "id": "skwzlvGDMweS"
      },
      "source": [
        "# changing SEX to categorical feature.\r\n",
        "df['SEX'] = df['SEX'].astype('str')\r\n",
        "df = pd.concat([df,pd.get_dummies(df['SEX'])],axis=1)"
      ],
      "execution_count": null,
      "outputs": []
    },
    {
      "cell_type": "code",
      "metadata": {
        "id": "mEbn04viORxT"
      },
      "source": [
        "df.drop(['SEX'],axis=1,inplace=True)"
      ],
      "execution_count": null,
      "outputs": []
    },
    {
      "cell_type": "markdown",
      "metadata": {
        "id": "hDdAOa9lvEZY"
      },
      "source": [
        "### Observations\r\n",
        "* SEX column is of dtype int64, we need to change that to categorical variable.\r\n",
        "* As I excatly don't know which value represent the male and female, so it would be easy to do one-hot encoding the model .\r\n",
        "* s4  : tch, thyroid stimulating hormone shows some irregularities as compare to the other features.\r\n",
        "* Feature S1 and S2 are highly corellated with each other."
      ]
    },
    {
      "cell_type": "code",
      "metadata": {
        "id": "pGb_9mpOn-u8",
        "colab": {
          "base_uri": "https://localhost:8080/",
          "height": 195
        },
        "outputId": "d5fbd1ed-f9be-4c8c-e306-ad5f0a0b73b2"
      },
      "source": [
        "df.head()"
      ],
      "execution_count": null,
      "outputs": [
        {
          "output_type": "execute_result",
          "data": {
            "text/html": [
              "<div>\n",
              "<style scoped>\n",
              "    .dataframe tbody tr th:only-of-type {\n",
              "        vertical-align: middle;\n",
              "    }\n",
              "\n",
              "    .dataframe tbody tr th {\n",
              "        vertical-align: top;\n",
              "    }\n",
              "\n",
              "    .dataframe thead th {\n",
              "        text-align: right;\n",
              "    }\n",
              "</style>\n",
              "<table border=\"1\" class=\"dataframe\">\n",
              "  <thead>\n",
              "    <tr style=\"text-align: right;\">\n",
              "      <th></th>\n",
              "      <th>AGE</th>\n",
              "      <th>BMI</th>\n",
              "      <th>BP</th>\n",
              "      <th>S1</th>\n",
              "      <th>S2</th>\n",
              "      <th>S3</th>\n",
              "      <th>S4</th>\n",
              "      <th>S5</th>\n",
              "      <th>S6</th>\n",
              "      <th>Y</th>\n",
              "      <th>1</th>\n",
              "      <th>2</th>\n",
              "    </tr>\n",
              "  </thead>\n",
              "  <tbody>\n",
              "    <tr>\n",
              "      <th>0</th>\n",
              "      <td>59</td>\n",
              "      <td>32.1</td>\n",
              "      <td>101.0</td>\n",
              "      <td>157</td>\n",
              "      <td>93.2</td>\n",
              "      <td>38.0</td>\n",
              "      <td>4.0</td>\n",
              "      <td>4.8598</td>\n",
              "      <td>87</td>\n",
              "      <td>151</td>\n",
              "      <td>0</td>\n",
              "      <td>1</td>\n",
              "    </tr>\n",
              "    <tr>\n",
              "      <th>1</th>\n",
              "      <td>48</td>\n",
              "      <td>21.6</td>\n",
              "      <td>87.0</td>\n",
              "      <td>183</td>\n",
              "      <td>103.2</td>\n",
              "      <td>70.0</td>\n",
              "      <td>3.0</td>\n",
              "      <td>3.8918</td>\n",
              "      <td>69</td>\n",
              "      <td>75</td>\n",
              "      <td>1</td>\n",
              "      <td>0</td>\n",
              "    </tr>\n",
              "    <tr>\n",
              "      <th>2</th>\n",
              "      <td>72</td>\n",
              "      <td>30.5</td>\n",
              "      <td>93.0</td>\n",
              "      <td>156</td>\n",
              "      <td>93.6</td>\n",
              "      <td>41.0</td>\n",
              "      <td>4.0</td>\n",
              "      <td>4.6728</td>\n",
              "      <td>85</td>\n",
              "      <td>141</td>\n",
              "      <td>0</td>\n",
              "      <td>1</td>\n",
              "    </tr>\n",
              "    <tr>\n",
              "      <th>3</th>\n",
              "      <td>24</td>\n",
              "      <td>25.3</td>\n",
              "      <td>84.0</td>\n",
              "      <td>198</td>\n",
              "      <td>131.4</td>\n",
              "      <td>40.0</td>\n",
              "      <td>5.0</td>\n",
              "      <td>4.8903</td>\n",
              "      <td>89</td>\n",
              "      <td>206</td>\n",
              "      <td>1</td>\n",
              "      <td>0</td>\n",
              "    </tr>\n",
              "    <tr>\n",
              "      <th>4</th>\n",
              "      <td>50</td>\n",
              "      <td>23.0</td>\n",
              "      <td>101.0</td>\n",
              "      <td>192</td>\n",
              "      <td>125.4</td>\n",
              "      <td>52.0</td>\n",
              "      <td>4.0</td>\n",
              "      <td>4.2905</td>\n",
              "      <td>80</td>\n",
              "      <td>135</td>\n",
              "      <td>1</td>\n",
              "      <td>0</td>\n",
              "    </tr>\n",
              "  </tbody>\n",
              "</table>\n",
              "</div>"
            ],
            "text/plain": [
              "   AGE   BMI     BP   S1     S2    S3   S4      S5  S6    Y  1  2\n",
              "0   59  32.1  101.0  157   93.2  38.0  4.0  4.8598  87  151  0  1\n",
              "1   48  21.6   87.0  183  103.2  70.0  3.0  3.8918  69   75  1  0\n",
              "2   72  30.5   93.0  156   93.6  41.0  4.0  4.6728  85  141  0  1\n",
              "3   24  25.3   84.0  198  131.4  40.0  5.0  4.8903  89  206  1  0\n",
              "4   50  23.0  101.0  192  125.4  52.0  4.0  4.2905  80  135  1  0"
            ]
          },
          "metadata": {
            "tags": []
          },
          "execution_count": 16
        }
      ]
    },
    {
      "cell_type": "markdown",
      "metadata": {
        "id": "3hQSlUCsOeQP"
      },
      "source": [
        "## Modeling"
      ]
    },
    {
      "cell_type": "code",
      "metadata": {
        "id": "v8Bq1IsNOZoO"
      },
      "source": [
        "from sklearn.model_selection import train_test_split\r\n",
        "X_train, X_test, y_train, y_test = train_test_split(df.drop(['Y'],axis=1).values, df['Y'].values, test_size=0.2)"
      ],
      "execution_count": null,
      "outputs": []
    },
    {
      "cell_type": "code",
      "metadata": {
        "colab": {
          "base_uri": "https://localhost:8080/"
        },
        "id": "BdA4FI8YO8MR",
        "outputId": "cf68c27c-0c3d-4036-ac61-76b66c68363d"
      },
      "source": [
        "print(X_train.shape, y_train.shape)\r\n",
        "print(X_test.shape, y_test.shape)"
      ],
      "execution_count": null,
      "outputs": [
        {
          "output_type": "stream",
          "text": [
            "(353, 11) (353,)\n",
            "(89, 11) (89,)\n"
          ],
          "name": "stdout"
        }
      ]
    },
    {
      "cell_type": "code",
      "metadata": {
        "colab": {
          "base_uri": "https://localhost:8080/"
        },
        "id": "QGfhZmAbPIQu",
        "outputId": "ce42025c-1893-452a-eb12-78426ed07c0a"
      },
      "source": [
        "from sklearn.linear_model import LinearRegression\r\n",
        "from sklearn.metrics import mean_squared_error\r\n",
        "lr = LinearRegression()\r\n",
        "lr.fit(X_train,y_train)\r\n",
        "y_pred = lr.predict(X_train)\r\n",
        "print(\"Mean Squared Error on Training Data = \",mean_squared_error(y_train, y_pred))\r\n",
        "y_pred1 = lr.predict(X_test)\r\n",
        "print(\"Mean Squared Error on Testing Data = \",mean_squared_error(y_test, y_pred1))"
      ],
      "execution_count": null,
      "outputs": [
        {
          "output_type": "stream",
          "text": [
            "Mean Squared Error on Training Data =  2919.489189622684\n",
            "Mean Squared Error on Testing Data =  2686.9614998088423\n"
          ],
          "name": "stdout"
        }
      ]
    },
    {
      "cell_type": "code",
      "metadata": {
        "id": "FHv7IP07RnqV"
      },
      "source": [
        "from sklearn.linear_model import Ridge\r\n",
        "alphas = [0.01, 0.1, 1, 10, 100]\r\n",
        "train_error = []\r\n",
        "cv_error = []\r\n",
        "for alpha in alphas:\r\n",
        "    rg = Ridge(alpha = alpha)\r\n",
        "    rg.fit(X_train, y_train)\r\n",
        "    y_pred = rg.predict(X_train)\r\n",
        "    train_error.append(mean_squared_error(y_train, y_pred))\r\n",
        "    y_pred1 = rg.predict(X_test)\r\n",
        "    cv_error.append(mean_squared_error(y_test, y_pred1))"
      ],
      "execution_count": null,
      "outputs": []
    },
    {
      "cell_type": "code",
      "metadata": {
        "colab": {
          "base_uri": "https://localhost:8080/"
        },
        "id": "ipmRdqviTkpN",
        "outputId": "a1165f19-868a-496c-f983-d0787d016d87"
      },
      "source": [
        "print(\"Minimum teting error is = \",min(cv_error))\r\n",
        "print(\"Best value for alpha is = \",alphas[cv_error.index(min(cv_error))])"
      ],
      "execution_count": null,
      "outputs": [
        {
          "output_type": "stream",
          "text": [
            "Minimum teting error is =  2683.460776694342\n",
            "Best value for alpha is =  1\n"
          ],
          "name": "stdout"
        }
      ]
    },
    {
      "cell_type": "code",
      "metadata": {
        "id": "BdJGYf2KWQw5",
        "colab": {
          "base_uri": "https://localhost:8080/"
        },
        "outputId": "f68fcc9f-5ad2-40db-f9d2-661e9f4189d0"
      },
      "source": [
        "from sklearn.svm import SVR\r\n",
        "C = [1,5,10,100]\r\n",
        "test_error = []\r\n",
        "train_error = []\r\n",
        "best_c = None \r\n",
        "least_error = 9999999\r\n",
        "best_model = None \r\n",
        "for c in C:\r\n",
        "    svr = SVR(C=c)\r\n",
        "    svr.fit(X_train, y_train)\r\n",
        "    y_pred = svr.predict(X_train)\r\n",
        "    train_error.append(mean_squared_error(y_train, y_pred))\r\n",
        "    y_pred1 = svr.predict(X_test)\r\n",
        "    test_e = mean_squared_error(y_test, y_pred1)\r\n",
        "    test_error.append(test_e)\r\n",
        "    if test_e < least_error:\r\n",
        "        least_error = test_e \r\n",
        "        best_c = c \r\n",
        "        best_model = svr\r\n",
        "print(\"Minimum Testing error = \", least_error)\r\n",
        "print(\"Best value for C= \",best_c)"
      ],
      "execution_count": null,
      "outputs": [
        {
          "output_type": "stream",
          "text": [
            "Minimum Testing error =  3511.170879778455\n",
            "Best value for C=  100\n"
          ],
          "name": "stdout"
        }
      ]
    },
    {
      "cell_type": "code",
      "metadata": {
        "colab": {
          "base_uri": "https://localhost:8080/"
        },
        "id": "KzZxd-xuTv4I",
        "outputId": "e4197cf7-0801-43ec-d958-49346a739a6d"
      },
      "source": [
        "C = [5000,10000,20000]\r\n",
        "test_error = []\r\n",
        "train_error = []\r\n",
        "best_c = None \r\n",
        "least_error = 9999999\r\n",
        "best_model = None \r\n",
        "for c in C:\r\n",
        "    svr = SVR(C=c)\r\n",
        "    svr.fit(X_train, y_train)\r\n",
        "    y_pred = svr.predict(X_train)\r\n",
        "    train_error.append(mean_squared_error(y_train, y_pred))\r\n",
        "    y_pred1 = svr.predict(X_test)\r\n",
        "    test_e = mean_squared_error(y_test, y_pred1)\r\n",
        "    test_error.append(test_e)\r\n",
        "    if test_e < least_error:\r\n",
        "        least_error = test_e \r\n",
        "        best_c = c \r\n",
        "        best_model = svr\r\n",
        "print(\"Minimum Testing error = \", least_error)\r\n",
        "print(\"Best value for C= \",best_c)"
      ],
      "execution_count": null,
      "outputs": [
        {
          "output_type": "stream",
          "text": [
            "Minimum Testing error =  2597.1265991073433\n",
            "Best value for C=  5000\n"
          ],
          "name": "stdout"
        }
      ]
    },
    {
      "cell_type": "code",
      "metadata": {
        "colab": {
          "base_uri": "https://localhost:8080/"
        },
        "id": "sc0k70UQT6W0",
        "outputId": "f684e5a3-f400-442b-e9e0-c71a7860c68c"
      },
      "source": [
        "C = [1,10,100,1000]\r\n",
        "test_error = []\r\n",
        "train_error = []\r\n",
        "best_c = None \r\n",
        "least_error = 9999999\r\n",
        "best_model = None \r\n",
        "for c in C:\r\n",
        "    svr = SVR(C=c, kernel='linear')\r\n",
        "    svr.fit(X_train, y_train)\r\n",
        "    y_pred = svr.predict(X_train)\r\n",
        "    train_error.append(mean_squared_error(y_train, y_pred))\r\n",
        "    y_pred1 = svr.predict(X_test)\r\n",
        "    test_e = mean_squared_error(y_test, y_pred1)\r\n",
        "    test_error.append(test_e)\r\n",
        "    if test_e < least_error:\r\n",
        "        least_error = test_e \r\n",
        "        best_c = c \r\n",
        "        best_model = svr\r\n",
        "print(\"Minimum Testing error = \", least_error)\r\n",
        "print(\"Best value for C= \",best_c)"
      ],
      "execution_count": null,
      "outputs": [
        {
          "output_type": "stream",
          "text": [
            "Minimum Testing error =  2680.0698239849603\n",
            "Best value for C=  100\n"
          ],
          "name": "stdout"
        }
      ]
    },
    {
      "cell_type": "code",
      "metadata": {
        "colab": {
          "base_uri": "https://localhost:8080/",
          "height": 301
        },
        "id": "aIMUV1yjVcIP",
        "outputId": "9424d4b2-b01d-4eb3-b339-f2d92e897ba6"
      },
      "source": [
        "y_pred1 = best_model.predict(X_test)\r\n",
        "plt.scatter(y_test, y_pred1)\r\n",
        "plt.plot(y_test, y_test)\r\n",
        "plt.title('Predicted value vs Actual Value')\r\n",
        "plt.xlabel('Actual Value of Y')\r\n",
        "plt.ylabel('Predicted value of Y')\r\n",
        "plt.show()"
      ],
      "execution_count": null,
      "outputs": [
        {
          "output_type": "display_data",
          "data": {
            "image/png": "[encoded data removed]",
            "text/plain": [
              "<Figure size 432x288 with 1 Axes>"
            ]
          },
          "metadata": {
            "tags": [],
            "needs_background": "light"
          }
        }
      ]
    },
    {
      "cell_type": "code",
      "metadata": {
        "id": "laOpcYOkbjh4"
      },
      "source": [
        "X_train_temp, X_test_temp, y_train_temp, y_test_temp = train_test_split(df.drop(['S1','Y'],axis=1).values, df['Y'].values, test_size=0.2)"
      ],
      "execution_count": null,
      "outputs": []
    },
    {
      "cell_type": "code",
      "metadata": {
        "colab": {
          "base_uri": "https://localhost:8080/"
        },
        "id": "YH_zouxFcsCJ",
        "outputId": "c047ebb3-6dca-449d-c703-7bcab7b85eb9"
      },
      "source": [
        "print(X_train_temp.shape, y_train_temp.shape)\r\n",
        "print(X_test_temp.shape, y_test_temp.shape)"
      ],
      "execution_count": null,
      "outputs": [
        {
          "output_type": "stream",
          "text": [
            "(353, 10) (353,)\n",
            "(89, 10) (89,)\n"
          ],
          "name": "stdout"
        }
      ]
    },
    {
      "cell_type": "code",
      "metadata": {
        "colab": {
          "base_uri": "https://localhost:8080/"
        },
        "id": "b5Ok845cc68G",
        "outputId": "f5132506-9f89-47ca-827e-2061c1c4bf8e"
      },
      "source": [
        "svr = SVR(C=100, kernel='linear')\r\n",
        "svr.fit(X_train_temp, y_train_temp)\r\n",
        "y_pred = svr.predict(X_train_temp)\r\n",
        "y_pred1 = svr.predict(X_test_temp)\r\n",
        "print(\"Training Error = \", mean_squared_error(y_train_temp, y_pred))\r\n",
        "print(\"Testing Error = \",mean_squared_error(y_test_temp, y_pred1))"
      ],
      "execution_count": null,
      "outputs": [
        {
          "output_type": "stream",
          "text": [
            "Training Error =  2847.925873245708\n",
            "Testing Error =  3187.987974093214\n"
          ],
          "name": "stdout"
        }
      ]
    },
    {
      "cell_type": "markdown",
      "metadata": {
        "id": "GwedBp8CPHRa"
      },
      "source": [
        "## After Standardization of data "
      ]
    },
    {
      "cell_type": "code",
      "metadata": {
        "colab": {
          "base_uri": "https://localhost:8080/"
        },
        "id": "8hrLKFRtPS6y",
        "outputId": "0105ba57-a4d1-4425-f6d7-61fbcfe51a13"
      },
      "source": [
        "!ls"
      ],
      "execution_count": null,
      "outputs": [
        {
          "output_type": "stream",
          "text": [
            "diabetes.tab.txt  sample_data\n"
          ],
          "name": "stdout"
        }
      ]
    },
    {
      "cell_type": "code",
      "metadata": {
        "id": "pfAchjcHd9iF",
        "colab": {
          "base_uri": "https://localhost:8080/",
          "height": 206
        },
        "outputId": "5aff0d43-a0bd-48e0-f9cb-180dd899752a"
      },
      "source": [
        "df = pd.read_csv('diabetes.tab.txt', sep='\\t')\r\n",
        "df.head()"
      ],
      "execution_count": null,
      "outputs": [
        {
          "output_type": "execute_result",
          "data": {
            "text/html": [
              "<div>\n",
              "<style scoped>\n",
              "    .dataframe tbody tr th:only-of-type {\n",
              "        vertical-align: middle;\n",
              "    }\n",
              "\n",
              "    .dataframe tbody tr th {\n",
              "        vertical-align: top;\n",
              "    }\n",
              "\n",
              "    .dataframe thead th {\n",
              "        text-align: right;\n",
              "    }\n",
              "</style>\n",
              "<table border=\"1\" class=\"dataframe\">\n",
              "  <thead>\n",
              "    <tr style=\"text-align: right;\">\n",
              "      <th></th>\n",
              "      <th>AGE</th>\n",
              "      <th>SEX</th>\n",
              "      <th>BMI</th>\n",
              "      <th>BP</th>\n",
              "      <th>S1</th>\n",
              "      <th>S2</th>\n",
              "      <th>S3</th>\n",
              "      <th>S4</th>\n",
              "      <th>S5</th>\n",
              "      <th>S6</th>\n",
              "      <th>Y</th>\n",
              "    </tr>\n",
              "  </thead>\n",
              "  <tbody>\n",
              "    <tr>\n",
              "      <th>0</th>\n",
              "      <td>59</td>\n",
              "      <td>2</td>\n",
              "      <td>32.1</td>\n",
              "      <td>101.0</td>\n",
              "      <td>157</td>\n",
              "      <td>93.2</td>\n",
              "      <td>38.0</td>\n",
              "      <td>4.0</td>\n",
              "      <td>4.8598</td>\n",
              "      <td>87</td>\n",
              "      <td>151</td>\n",
              "    </tr>\n",
              "    <tr>\n",
              "      <th>1</th>\n",
              "      <td>48</td>\n",
              "      <td>1</td>\n",
              "      <td>21.6</td>\n",
              "      <td>87.0</td>\n",
              "      <td>183</td>\n",
              "      <td>103.2</td>\n",
              "      <td>70.0</td>\n",
              "      <td>3.0</td>\n",
              "      <td>3.8918</td>\n",
              "      <td>69</td>\n",
              "      <td>75</td>\n",
              "    </tr>\n",
              "    <tr>\n",
              "      <th>2</th>\n",
              "      <td>72</td>\n",
              "      <td>2</td>\n",
              "      <td>30.5</td>\n",
              "      <td>93.0</td>\n",
              "      <td>156</td>\n",
              "      <td>93.6</td>\n",
              "      <td>41.0</td>\n",
              "      <td>4.0</td>\n",
              "      <td>4.6728</td>\n",
              "      <td>85</td>\n",
              "      <td>141</td>\n",
              "    </tr>\n",
              "    <tr>\n",
              "      <th>3</th>\n",
              "      <td>24</td>\n",
              "      <td>1</td>\n",
              "      <td>25.3</td>\n",
              "      <td>84.0</td>\n",
              "      <td>198</td>\n",
              "      <td>131.4</td>\n",
              "      <td>40.0</td>\n",
              "      <td>5.0</td>\n",
              "      <td>4.8903</td>\n",
              "      <td>89</td>\n",
              "      <td>206</td>\n",
              "    </tr>\n",
              "    <tr>\n",
              "      <th>4</th>\n",
              "      <td>50</td>\n",
              "      <td>1</td>\n",
              "      <td>23.0</td>\n",
              "      <td>101.0</td>\n",
              "      <td>192</td>\n",
              "      <td>125.4</td>\n",
              "      <td>52.0</td>\n",
              "      <td>4.0</td>\n",
              "      <td>4.2905</td>\n",
              "      <td>80</td>\n",
              "      <td>135</td>\n",
              "    </tr>\n",
              "  </tbody>\n",
              "</table>\n",
              "</div>"
            ],
            "text/plain": [
              "   AGE  SEX   BMI     BP   S1     S2    S3   S4      S5  S6    Y\n",
              "0   59    2  32.1  101.0  157   93.2  38.0  4.0  4.8598  87  151\n",
              "1   48    1  21.6   87.0  183  103.2  70.0  3.0  3.8918  69   75\n",
              "2   72    2  30.5   93.0  156   93.6  41.0  4.0  4.6728  85  141\n",
              "3   24    1  25.3   84.0  198  131.4  40.0  5.0  4.8903  89  206\n",
              "4   50    1  23.0  101.0  192  125.4  52.0  4.0  4.2905  80  135"
            ]
          },
          "metadata": {
            "tags": []
          },
          "execution_count": 8
        }
      ]
    },
    {
      "cell_type": "code",
      "metadata": {
        "id": "MSXopx-bPzIl"
      },
      "source": [
        "df['SEX'] = df['SEX'].astype('str')\r\n",
        "df = pd.concat([df.drop(['SEX'],axis=1), pd.get_dummies(df['SEX'])], axis=1)"
      ],
      "execution_count": null,
      "outputs": []
    },
    {
      "cell_type": "code",
      "metadata": {
        "colab": {
          "base_uri": "https://localhost:8080/",
          "height": 206
        },
        "id": "lpAbXfpYQln_",
        "outputId": "fc63c02d-58e0-4390-872f-671c060b7ed0"
      },
      "source": [
        "df.head()"
      ],
      "execution_count": null,
      "outputs": [
        {
          "output_type": "execute_result",
          "data": {
            "text/html": [
              "<div>\n",
              "<style scoped>\n",
              "    .dataframe tbody tr th:only-of-type {\n",
              "        vertical-align: middle;\n",
              "    }\n",
              "\n",
              "    .dataframe tbody tr th {\n",
              "        vertical-align: top;\n",
              "    }\n",
              "\n",
              "    .dataframe thead th {\n",
              "        text-align: right;\n",
              "    }\n",
              "</style>\n",
              "<table border=\"1\" class=\"dataframe\">\n",
              "  <thead>\n",
              "    <tr style=\"text-align: right;\">\n",
              "      <th></th>\n",
              "      <th>AGE</th>\n",
              "      <th>BMI</th>\n",
              "      <th>BP</th>\n",
              "      <th>S1</th>\n",
              "      <th>S2</th>\n",
              "      <th>S3</th>\n",
              "      <th>S4</th>\n",
              "      <th>S5</th>\n",
              "      <th>S6</th>\n",
              "      <th>Y</th>\n",
              "      <th>1</th>\n",
              "      <th>2</th>\n",
              "    </tr>\n",
              "  </thead>\n",
              "  <tbody>\n",
              "    <tr>\n",
              "      <th>0</th>\n",
              "      <td>59</td>\n",
              "      <td>32.1</td>\n",
              "      <td>101.0</td>\n",
              "      <td>157</td>\n",
              "      <td>93.2</td>\n",
              "      <td>38.0</td>\n",
              "      <td>4.0</td>\n",
              "      <td>4.8598</td>\n",
              "      <td>87</td>\n",
              "      <td>151</td>\n",
              "      <td>0</td>\n",
              "      <td>1</td>\n",
              "    </tr>\n",
              "    <tr>\n",
              "      <th>1</th>\n",
              "      <td>48</td>\n",
              "      <td>21.6</td>\n",
              "      <td>87.0</td>\n",
              "      <td>183</td>\n",
              "      <td>103.2</td>\n",
              "      <td>70.0</td>\n",
              "      <td>3.0</td>\n",
              "      <td>3.8918</td>\n",
              "      <td>69</td>\n",
              "      <td>75</td>\n",
              "      <td>1</td>\n",
              "      <td>0</td>\n",
              "    </tr>\n",
              "    <tr>\n",
              "      <th>2</th>\n",
              "      <td>72</td>\n",
              "      <td>30.5</td>\n",
              "      <td>93.0</td>\n",
              "      <td>156</td>\n",
              "      <td>93.6</td>\n",
              "      <td>41.0</td>\n",
              "      <td>4.0</td>\n",
              "      <td>4.6728</td>\n",
              "      <td>85</td>\n",
              "      <td>141</td>\n",
              "      <td>0</td>\n",
              "      <td>1</td>\n",
              "    </tr>\n",
              "    <tr>\n",
              "      <th>3</th>\n",
              "      <td>24</td>\n",
              "      <td>25.3</td>\n",
              "      <td>84.0</td>\n",
              "      <td>198</td>\n",
              "      <td>131.4</td>\n",
              "      <td>40.0</td>\n",
              "      <td>5.0</td>\n",
              "      <td>4.8903</td>\n",
              "      <td>89</td>\n",
              "      <td>206</td>\n",
              "      <td>1</td>\n",
              "      <td>0</td>\n",
              "    </tr>\n",
              "    <tr>\n",
              "      <th>4</th>\n",
              "      <td>50</td>\n",
              "      <td>23.0</td>\n",
              "      <td>101.0</td>\n",
              "      <td>192</td>\n",
              "      <td>125.4</td>\n",
              "      <td>52.0</td>\n",
              "      <td>4.0</td>\n",
              "      <td>4.2905</td>\n",
              "      <td>80</td>\n",
              "      <td>135</td>\n",
              "      <td>1</td>\n",
              "      <td>0</td>\n",
              "    </tr>\n",
              "  </tbody>\n",
              "</table>\n",
              "</div>"
            ],
            "text/plain": [
              "   AGE   BMI     BP   S1     S2    S3   S4      S5  S6    Y  1  2\n",
              "0   59  32.1  101.0  157   93.2  38.0  4.0  4.8598  87  151  0  1\n",
              "1   48  21.6   87.0  183  103.2  70.0  3.0  3.8918  69   75  1  0\n",
              "2   72  30.5   93.0  156   93.6  41.0  4.0  4.6728  85  141  0  1\n",
              "3   24  25.3   84.0  198  131.4  40.0  5.0  4.8903  89  206  1  0\n",
              "4   50  23.0  101.0  192  125.4  52.0  4.0  4.2905  80  135  1  0"
            ]
          },
          "metadata": {
            "tags": []
          },
          "execution_count": 10
        }
      ]
    },
    {
      "cell_type": "code",
      "metadata": {
        "id": "S4o-mdLFPZi6"
      },
      "source": [
        "from sklearn.model_selection import train_test_split\r\n",
        "X_train, X_test, y_train, y_test = train_test_split(df.drop(['Y'], axis=1), df['Y'], test_size=0.2)"
      ],
      "execution_count": null,
      "outputs": []
    },
    {
      "cell_type": "code",
      "metadata": {
        "colab": {
          "base_uri": "https://localhost:8080/"
        },
        "id": "JvkUAQG6RgiN",
        "outputId": "5c948db2-341d-4112-ad02-f2518afdd6e9"
      },
      "source": [
        "print(X_train.shape, y_train.shape)\r\n",
        "print(X_test.shape, y_test.shape)"
      ],
      "execution_count": null,
      "outputs": [
        {
          "output_type": "stream",
          "text": [
            "(353, 11) (353,)\n",
            "(89, 11) (89,)\n"
          ],
          "name": "stdout"
        }
      ]
    },
    {
      "cell_type": "code",
      "metadata": {
        "colab": {
          "base_uri": "https://localhost:8080/"
        },
        "id": "PkpZeV3lTgYC",
        "outputId": "6afdbc16-7e40-451d-9c8a-846378908c25"
      },
      "source": [
        "type(X_train)"
      ],
      "execution_count": null,
      "outputs": [
        {
          "output_type": "execute_result",
          "data": {
            "text/plain": [
              "pandas.core.frame.DataFrame"
            ]
          },
          "metadata": {
            "tags": []
          },
          "execution_count": 14
        }
      ]
    },
    {
      "cell_type": "code",
      "metadata": {
        "colab": {
          "base_uri": "https://localhost:8080/"
        },
        "id": "YPFUEYggRuPJ",
        "outputId": "e2e475f7-b6b9-45d4-865e-b9ff559996e6"
      },
      "source": [
        "from sklearn.preprocessing import StandardScaler\r\n",
        "scaler = StandardScaler()\r\n",
        "scaler.fit(X_train[['AGE','BMI','BP','S1','S2','S3','S4','S5','S6']].values)"
      ],
      "execution_count": null,
      "outputs": [
        {
          "output_type": "execute_result",
          "data": {
            "text/plain": [
              "StandardScaler(copy=True, with_mean=True, with_std=True)"
            ]
          },
          "metadata": {
            "tags": []
          },
          "execution_count": 15
        }
      ]
    },
    {
      "cell_type": "code",
      "metadata": {
        "id": "5YYS1rIgT98e"
      },
      "source": [
        "X_train[['AGE','BMI','BP','S1','S2','S3','S4','S5','S6']] = scaler.transform(X_train[['AGE','BMI','BP','S1','S2','S3','S4','S5','S6']])\r\n",
        "X_test[['AGE','BMI','BP','S1','S2','S3','S4','S5','S6']] = scaler.transform(X_test[['AGE','BMI','BP','S1','S2','S3','S4','S5','S6']])"
      ],
      "execution_count": null,
      "outputs": []
    },
    {
      "cell_type": "code",
      "metadata": {
        "colab": {
          "base_uri": "https://localhost:8080/",
          "height": 206
        },
        "id": "21Ldq2EXUSS_",
        "outputId": "e723e60d-0b6a-4e2f-d36e-2d801b494bc0"
      },
      "source": [
        "X_train.head()"
      ],
      "execution_count": null,
      "outputs": [
        {
          "output_type": "execute_result",
          "data": {
            "text/html": [
              "<div>\n",
              "<style scoped>\n",
              "    .dataframe tbody tr th:only-of-type {\n",
              "        vertical-align: middle;\n",
              "    }\n",
              "\n",
              "    .dataframe tbody tr th {\n",
              "        vertical-align: top;\n",
              "    }\n",
              "\n",
              "    .dataframe thead th {\n",
              "        text-align: right;\n",
              "    }\n",
              "</style>\n",
              "<table border=\"1\" class=\"dataframe\">\n",
              "  <thead>\n",
              "    <tr style=\"text-align: right;\">\n",
              "      <th></th>\n",
              "      <th>AGE</th>\n",
              "      <th>BMI</th>\n",
              "      <th>BP</th>\n",
              "      <th>S1</th>\n",
              "      <th>S2</th>\n",
              "      <th>S3</th>\n",
              "      <th>S4</th>\n",
              "      <th>S5</th>\n",
              "      <th>S6</th>\n",
              "      <th>1</th>\n",
              "      <th>2</th>\n",
              "    </tr>\n",
              "  </thead>\n",
              "  <tbody>\n",
              "    <tr>\n",
              "      <th>6</th>\n",
              "      <td>-0.891352</td>\n",
              "      <td>-1.002406</td>\n",
              "      <td>-0.317892</td>\n",
              "      <td>-0.837618</td>\n",
              "      <td>-0.531132</td>\n",
              "      <td>0.046167</td>\n",
              "      <td>-0.847614</td>\n",
              "      <td>-1.312106</td>\n",
              "      <td>-0.774516</td>\n",
              "      <td>0</td>\n",
              "      <td>1</td>\n",
              "    </tr>\n",
              "    <tr>\n",
              "      <th>5</th>\n",
              "      <td>-1.882968</td>\n",
              "      <td>-0.863596</td>\n",
              "      <td>-0.391590</td>\n",
              "      <td>-1.455517</td>\n",
              "      <td>-1.721194</td>\n",
              "      <td>0.924926</td>\n",
              "      <td>-1.633329</td>\n",
              "      <td>-0.857592</td>\n",
              "      <td>-1.985800</td>\n",
              "      <td>1</td>\n",
              "      <td>0</td>\n",
              "    </tr>\n",
              "    <tr>\n",
              "      <th>207</th>\n",
              "      <td>0.252820</td>\n",
              "      <td>0.987201</td>\n",
              "      <td>0.640179</td>\n",
              "      <td>0.280484</td>\n",
              "      <td>-0.291751</td>\n",
              "      <td>0.605378</td>\n",
              "      <td>-0.847614</td>\n",
              "      <td>0.967706</td>\n",
              "      <td>0.782849</td>\n",
              "      <td>1</td>\n",
              "      <td>0</td>\n",
              "    </tr>\n",
              "    <tr>\n",
              "      <th>19</th>\n",
              "      <td>-0.509961</td>\n",
              "      <td>-0.377762</td>\n",
              "      <td>-0.833776</td>\n",
              "      <td>-0.043177</td>\n",
              "      <td>-0.237036</td>\n",
              "      <td>0.845039</td>\n",
              "      <td>-0.847614</td>\n",
              "      <td>-0.183730</td>\n",
              "      <td>-1.120597</td>\n",
              "      <td>1</td>\n",
              "      <td>0</td>\n",
              "    </tr>\n",
              "    <tr>\n",
              "      <th>270</th>\n",
              "      <td>0.176542</td>\n",
              "      <td>0.663311</td>\n",
              "      <td>1.819343</td>\n",
              "      <td>-0.778771</td>\n",
              "      <td>-1.023571</td>\n",
              "      <td>0.365716</td>\n",
              "      <td>-0.847614</td>\n",
              "      <td>0.183884</td>\n",
              "      <td>0.350248</td>\n",
              "      <td>0</td>\n",
              "      <td>1</td>\n",
              "    </tr>\n",
              "  </tbody>\n",
              "</table>\n",
              "</div>"
            ],
            "text/plain": [
              "          AGE       BMI        BP        S1  ...        S5        S6  1  2\n",
              "6   -0.891352 -1.002406 -0.317892 -0.837618  ... -1.312106 -0.774516  0  1\n",
              "5   -1.882968 -0.863596 -0.391590 -1.455517  ... -0.857592 -1.985800  1  0\n",
              "207  0.252820  0.987201  0.640179  0.280484  ...  0.967706  0.782849  1  0\n",
              "19  -0.509961 -0.377762 -0.833776 -0.043177  ... -0.183730 -1.120597  1  0\n",
              "270  0.176542  0.663311  1.819343 -0.778771  ...  0.183884  0.350248  0  1\n",
              "\n",
              "[5 rows x 11 columns]"
            ]
          },
          "metadata": {
            "tags": []
          },
          "execution_count": 17
        }
      ]
    },
    {
      "cell_type": "code",
      "metadata": {
        "id": "41cTm77vUUXi"
      },
      "source": [
        "from sklearn.linear_model import LinearRegression, Ridge\r\n",
        "from sklearn.svm import SVR\r\n",
        "from sklearn.metrics import mean_squared_error"
      ],
      "execution_count": null,
      "outputs": []
    },
    {
      "cell_type": "code",
      "metadata": {
        "colab": {
          "base_uri": "https://localhost:8080/"
        },
        "id": "7qnhueRtVDTA",
        "outputId": "5e7bfdc0-8762-470d-e2a3-98af53cb218d"
      },
      "source": [
        "lr = LinearRegression()\r\n",
        "lr.fit(X_train.values, y_train.values)\r\n",
        "y_pred = lr.predict(X_train.values)\r\n",
        "print(\"Training Error with std. data = \", mean_squared_error(y_train, y_pred))\r\n",
        "y_pred1 = lr.predict(X_test.values)\r\n",
        "print(\"Testing Error with std data = \", mean_squared_error(y_test, y_pred1))"
      ],
      "execution_count": null,
      "outputs": [
        {
          "output_type": "stream",
          "text": [
            "Training Error with std. data =  2816.680995322364\n",
            "Testing Error with std data =  3138.069488901397\n"
          ],
          "name": "stdout"
        }
      ]
    },
    {
      "cell_type": "code",
      "metadata": {
        "id": "U-FhHHILZe-j"
      },
      "source": [
        ""
      ],
      "execution_count": null,
      "outputs": []
    },
    {
      "cell_type": "code",
      "metadata": {
        "colab": {
          "base_uri": "https://localhost:8080/"
        },
        "id": "2eVDUz3LWfHl",
        "outputId": "55124a0b-a8e0-40f6-de49-d55270139297"
      },
      "source": [
        "from sklearn.svm import SVR\r\n",
        "C = [1,5,10,100]\r\n",
        "test_error = []\r\n",
        "train_error = []\r\n",
        "best_c = None \r\n",
        "least_error = 9999999\r\n",
        "best_model = None \r\n",
        "for c in C:\r\n",
        "    svr = SVR(C=c)\r\n",
        "    svr.fit(X_train, y_train)\r\n",
        "    y_pred = svr.predict(X_train)\r\n",
        "    train_error.append(mean_squared_error(y_train, y_pred))\r\n",
        "    y_pred1 = svr.predict(X_test)\r\n",
        "    test_e = mean_squared_error(y_test, y_pred1)\r\n",
        "    test_error.append(test_e)\r\n",
        "    if test_e < least_error:\r\n",
        "        least_error = test_e \r\n",
        "        best_c = c \r\n",
        "        best_model = svr\r\n",
        "print(\"Minimum Testing error = \", least_error)\r\n",
        "print(\"Best value for C= \",best_c)"
      ],
      "execution_count": null,
      "outputs": [
        {
          "output_type": "stream",
          "text": [
            "Minimum Testing error =  3218.9508136077884\n",
            "Best value for C=  10\n"
          ],
          "name": "stdout"
        }
      ]
    },
    {
      "cell_type": "code",
      "metadata": {
        "colab": {
          "base_uri": "https://localhost:8080/"
        },
        "id": "HpOjclspZbdM",
        "outputId": "f567d8cf-c575-4793-da18-3eff17e08ed3"
      },
      "source": [
        "alphas = [0.01, 0.1, 1, 10, 100]\r\n",
        "train_error = []\r\n",
        "cv_error = []\r\n",
        "best_alpha = None \r\n",
        "least_error = 9999999\r\n",
        "best_model = None\r\n",
        "for alpha in alphas:\r\n",
        "    rg = Ridge(alpha = alpha)\r\n",
        "    rg.fit(X_train, y_train)\r\n",
        "    y_pred = rg.predict(X_train)\r\n",
        "    train_error.append(mean_squared_error(y_train, y_pred))\r\n",
        "    y_pred1 = rg.predict(X_test)\r\n",
        "    cv_er = mean_squared_error(y_test, y_pred1)\r\n",
        "    cv_error.append(cv_er)\r\n",
        "    if cv_er < least_error:\r\n",
        "        least_error = cv_er\r\n",
        "        best_model = rg \r\n",
        "        best_alpha = alpha \r\n",
        "print(\"Minimum Testing Error = \",least_error)\r\n",
        "print(\"best alpha = \",best_alpha)"
      ],
      "execution_count": null,
      "outputs": [
        {
          "output_type": "stream",
          "text": [
            "Minimum Testing Error =  3125.2949736585156\n",
            "best alpha =  10\n"
          ],
          "name": "stdout"
        }
      ]
    },
    {
      "cell_type": "markdown",
      "metadata": {
        "id": "Ul6DrFqj0Cnx"
      },
      "source": [
        "### Trying Some Non-linear Models"
      ]
    },
    {
      "cell_type": "code",
      "metadata": {
        "colab": {
          "base_uri": "https://localhost:8080/"
        },
        "id": "_654vfVv0L7M",
        "outputId": "faaffb25-59dd-4555-83f7-90da21713699"
      },
      "source": [
        "!ls"
      ],
      "execution_count": null,
      "outputs": [
        {
          "output_type": "stream",
          "text": [
            "diabetes.tab.txt  sample_data\n"
          ],
          "name": "stdout"
        }
      ]
    },
    {
      "cell_type": "code",
      "metadata": {
        "id": "8HzZjvNRacvG",
        "colab": {
          "base_uri": "https://localhost:8080/",
          "height": 206
        },
        "outputId": "45788fc7-843f-479e-c8b8-9eb50e2299b5"
      },
      "source": [
        "df = pd.read_csv('diabetes.tab.txt',sep='\\t')\r\n",
        "df.head()"
      ],
      "execution_count": null,
      "outputs": [
        {
          "output_type": "execute_result",
          "data": {
            "text/html": [
              "<div>\n",
              "<style scoped>\n",
              "    .dataframe tbody tr th:only-of-type {\n",
              "        vertical-align: middle;\n",
              "    }\n",
              "\n",
              "    .dataframe tbody tr th {\n",
              "        vertical-align: top;\n",
              "    }\n",
              "\n",
              "    .dataframe thead th {\n",
              "        text-align: right;\n",
              "    }\n",
              "</style>\n",
              "<table border=\"1\" class=\"dataframe\">\n",
              "  <thead>\n",
              "    <tr style=\"text-align: right;\">\n",
              "      <th></th>\n",
              "      <th>AGE</th>\n",
              "      <th>SEX</th>\n",
              "      <th>BMI</th>\n",
              "      <th>BP</th>\n",
              "      <th>S1</th>\n",
              "      <th>S2</th>\n",
              "      <th>S3</th>\n",
              "      <th>S4</th>\n",
              "      <th>S5</th>\n",
              "      <th>S6</th>\n",
              "      <th>Y</th>\n",
              "    </tr>\n",
              "  </thead>\n",
              "  <tbody>\n",
              "    <tr>\n",
              "      <th>0</th>\n",
              "      <td>59</td>\n",
              "      <td>2</td>\n",
              "      <td>32.1</td>\n",
              "      <td>101.0</td>\n",
              "      <td>157</td>\n",
              "      <td>93.2</td>\n",
              "      <td>38.0</td>\n",
              "      <td>4.0</td>\n",
              "      <td>4.8598</td>\n",
              "      <td>87</td>\n",
              "      <td>151</td>\n",
              "    </tr>\n",
              "    <tr>\n",
              "      <th>1</th>\n",
              "      <td>48</td>\n",
              "      <td>1</td>\n",
              "      <td>21.6</td>\n",
              "      <td>87.0</td>\n",
              "      <td>183</td>\n",
              "      <td>103.2</td>\n",
              "      <td>70.0</td>\n",
              "      <td>3.0</td>\n",
              "      <td>3.8918</td>\n",
              "      <td>69</td>\n",
              "      <td>75</td>\n",
              "    </tr>\n",
              "    <tr>\n",
              "      <th>2</th>\n",
              "      <td>72</td>\n",
              "      <td>2</td>\n",
              "      <td>30.5</td>\n",
              "      <td>93.0</td>\n",
              "      <td>156</td>\n",
              "      <td>93.6</td>\n",
              "      <td>41.0</td>\n",
              "      <td>4.0</td>\n",
              "      <td>4.6728</td>\n",
              "      <td>85</td>\n",
              "      <td>141</td>\n",
              "    </tr>\n",
              "    <tr>\n",
              "      <th>3</th>\n",
              "      <td>24</td>\n",
              "      <td>1</td>\n",
              "      <td>25.3</td>\n",
              "      <td>84.0</td>\n",
              "      <td>198</td>\n",
              "      <td>131.4</td>\n",
              "      <td>40.0</td>\n",
              "      <td>5.0</td>\n",
              "      <td>4.8903</td>\n",
              "      <td>89</td>\n",
              "      <td>206</td>\n",
              "    </tr>\n",
              "    <tr>\n",
              "      <th>4</th>\n",
              "      <td>50</td>\n",
              "      <td>1</td>\n",
              "      <td>23.0</td>\n",
              "      <td>101.0</td>\n",
              "      <td>192</td>\n",
              "      <td>125.4</td>\n",
              "      <td>52.0</td>\n",
              "      <td>4.0</td>\n",
              "      <td>4.2905</td>\n",
              "      <td>80</td>\n",
              "      <td>135</td>\n",
              "    </tr>\n",
              "  </tbody>\n",
              "</table>\n",
              "</div>"
            ],
            "text/plain": [
              "   AGE  SEX   BMI     BP   S1     S2    S3   S4      S5  S6    Y\n",
              "0   59    2  32.1  101.0  157   93.2  38.0  4.0  4.8598  87  151\n",
              "1   48    1  21.6   87.0  183  103.2  70.0  3.0  3.8918  69   75\n",
              "2   72    2  30.5   93.0  156   93.6  41.0  4.0  4.6728  85  141\n",
              "3   24    1  25.3   84.0  198  131.4  40.0  5.0  4.8903  89  206\n",
              "4   50    1  23.0  101.0  192  125.4  52.0  4.0  4.2905  80  135"
            ]
          },
          "metadata": {
            "tags": []
          },
          "execution_count": 12
        }
      ]
    },
    {
      "cell_type": "code",
      "metadata": {
        "id": "hrqQYBFR0RDx"
      },
      "source": [
        "df['SEX'] = df['SEX'].astype('str')\r\n",
        "df = pd.concat([df.drop(['SEX'],axis=1), pd.get_dummies(df['SEX'])], axis=1)"
      ],
      "execution_count": null,
      "outputs": []
    },
    {
      "cell_type": "code",
      "metadata": {
        "colab": {
          "base_uri": "https://localhost:8080/",
          "height": 206
        },
        "id": "y5BJKL-y0nhc",
        "outputId": "fe0cc688-6ecb-4df7-db98-ed88a17bf1d4"
      },
      "source": [
        "df.head()"
      ],
      "execution_count": null,
      "outputs": [
        {
          "output_type": "execute_result",
          "data": {
            "text/html": [
              "<div>\n",
              "<style scoped>\n",
              "    .dataframe tbody tr th:only-of-type {\n",
              "        vertical-align: middle;\n",
              "    }\n",
              "\n",
              "    .dataframe tbody tr th {\n",
              "        vertical-align: top;\n",
              "    }\n",
              "\n",
              "    .dataframe thead th {\n",
              "        text-align: right;\n",
              "    }\n",
              "</style>\n",
              "<table border=\"1\" class=\"dataframe\">\n",
              "  <thead>\n",
              "    <tr style=\"text-align: right;\">\n",
              "      <th></th>\n",
              "      <th>AGE</th>\n",
              "      <th>BMI</th>\n",
              "      <th>BP</th>\n",
              "      <th>S1</th>\n",
              "      <th>S2</th>\n",
              "      <th>S3</th>\n",
              "      <th>S4</th>\n",
              "      <th>S5</th>\n",
              "      <th>S6</th>\n",
              "      <th>Y</th>\n",
              "      <th>1</th>\n",
              "      <th>2</th>\n",
              "    </tr>\n",
              "  </thead>\n",
              "  <tbody>\n",
              "    <tr>\n",
              "      <th>0</th>\n",
              "      <td>59</td>\n",
              "      <td>32.1</td>\n",
              "      <td>101.0</td>\n",
              "      <td>157</td>\n",
              "      <td>93.2</td>\n",
              "      <td>38.0</td>\n",
              "      <td>4.0</td>\n",
              "      <td>4.8598</td>\n",
              "      <td>87</td>\n",
              "      <td>151</td>\n",
              "      <td>0</td>\n",
              "      <td>1</td>\n",
              "    </tr>\n",
              "    <tr>\n",
              "      <th>1</th>\n",
              "      <td>48</td>\n",
              "      <td>21.6</td>\n",
              "      <td>87.0</td>\n",
              "      <td>183</td>\n",
              "      <td>103.2</td>\n",
              "      <td>70.0</td>\n",
              "      <td>3.0</td>\n",
              "      <td>3.8918</td>\n",
              "      <td>69</td>\n",
              "      <td>75</td>\n",
              "      <td>1</td>\n",
              "      <td>0</td>\n",
              "    </tr>\n",
              "    <tr>\n",
              "      <th>2</th>\n",
              "      <td>72</td>\n",
              "      <td>30.5</td>\n",
              "      <td>93.0</td>\n",
              "      <td>156</td>\n",
              "      <td>93.6</td>\n",
              "      <td>41.0</td>\n",
              "      <td>4.0</td>\n",
              "      <td>4.6728</td>\n",
              "      <td>85</td>\n",
              "      <td>141</td>\n",
              "      <td>0</td>\n",
              "      <td>1</td>\n",
              "    </tr>\n",
              "    <tr>\n",
              "      <th>3</th>\n",
              "      <td>24</td>\n",
              "      <td>25.3</td>\n",
              "      <td>84.0</td>\n",
              "      <td>198</td>\n",
              "      <td>131.4</td>\n",
              "      <td>40.0</td>\n",
              "      <td>5.0</td>\n",
              "      <td>4.8903</td>\n",
              "      <td>89</td>\n",
              "      <td>206</td>\n",
              "      <td>1</td>\n",
              "      <td>0</td>\n",
              "    </tr>\n",
              "    <tr>\n",
              "      <th>4</th>\n",
              "      <td>50</td>\n",
              "      <td>23.0</td>\n",
              "      <td>101.0</td>\n",
              "      <td>192</td>\n",
              "      <td>125.4</td>\n",
              "      <td>52.0</td>\n",
              "      <td>4.0</td>\n",
              "      <td>4.2905</td>\n",
              "      <td>80</td>\n",
              "      <td>135</td>\n",
              "      <td>1</td>\n",
              "      <td>0</td>\n",
              "    </tr>\n",
              "  </tbody>\n",
              "</table>\n",
              "</div>"
            ],
            "text/plain": [
              "   AGE   BMI     BP   S1     S2    S3   S4      S5  S6    Y  1  2\n",
              "0   59  32.1  101.0  157   93.2  38.0  4.0  4.8598  87  151  0  1\n",
              "1   48  21.6   87.0  183  103.2  70.0  3.0  3.8918  69   75  1  0\n",
              "2   72  30.5   93.0  156   93.6  41.0  4.0  4.6728  85  141  0  1\n",
              "3   24  25.3   84.0  198  131.4  40.0  5.0  4.8903  89  206  1  0\n",
              "4   50  23.0  101.0  192  125.4  52.0  4.0  4.2905  80  135  1  0"
            ]
          },
          "metadata": {
            "tags": []
          },
          "execution_count": 14
        }
      ]
    },
    {
      "cell_type": "code",
      "metadata": {
        "id": "Bhegtbty1A31"
      },
      "source": [
        "from sklearn.model_selection import train_test_split\r\n",
        "from sklearn.tree import DecisionTreeRegressor\r\n",
        "from sklearn.ensemble import RandomForestRegressor\r\n",
        "from sklearn.metrics import mean_squared_error\r\n",
        "import xgboost as xgb "
      ],
      "execution_count": null,
      "outputs": []
    },
    {
      "cell_type": "code",
      "metadata": {
        "colab": {
          "base_uri": "https://localhost:8080/"
        },
        "id": "KW6CAzLt2EDN",
        "outputId": "d90ad07a-2441-4356-b149-13a2604bca3d"
      },
      "source": [
        "X_train, X_test, y_train, y_test = train_test_split(df.drop(['Y'],axis=1).values, df['Y'].values, test_size=0.2)\r\n",
        "print(X_train.shape, y_train.shape)\r\n",
        "print(X_test.shape, y_test.shape)"
      ],
      "execution_count": null,
      "outputs": [
        {
          "output_type": "stream",
          "text": [
            "(353, 11) (353,)\n",
            "(89, 11) (89,)\n"
          ],
          "name": "stdout"
        }
      ]
    },
    {
      "cell_type": "code",
      "metadata": {
        "colab": {
          "base_uri": "https://localhost:8080/"
        },
        "id": "DosKste62skc",
        "outputId": "26ecc963-a662-4506-c8ee-e46b40954ec7"
      },
      "source": [
        "best_model = None \r\n",
        "best_depth = None\r\n",
        "least_error = 9999999\r\n",
        "max_depths = [3,4,5,6] \r\n",
        "train_errors = []\r\n",
        "test_errors = []\r\n",
        "for d in max_depths:\r\n",
        "    tr = DecisionTreeRegressor(max_depth=d)\r\n",
        "    tr.fit(X_train, y_train)\r\n",
        "    y_pred = tr.predict(X_train)\r\n",
        "    train_errors.append(mean_squared_error(y_train, y_pred))\r\n",
        "    y_pred1 = tr.predict(X_test)\r\n",
        "    test_er = mean_squared_error(y_test, y_pred1)\r\n",
        "    if test_er < least_error:\r\n",
        "        least_error = test_er\r\n",
        "        best_model = tr\r\n",
        "        best_depth = d\r\n",
        "print(\"Minimum testing error = \" ,least_error)\r\n",
        "print(\"Best Max Depth = \",best_depth)"
      ],
      "execution_count": null,
      "outputs": [
        {
          "output_type": "stream",
          "text": [
            "Minimum testing error =  4119.321566362705\n",
            "Best Max Depth =  3\n"
          ],
          "name": "stdout"
        }
      ]
    },
    {
      "cell_type": "code",
      "metadata": {
        "colab": {
          "base_uri": "https://localhost:8080/"
        },
        "id": "-LccMQbx45l6",
        "outputId": "59671a5e-b351-4453-93e6-e8b274d41358"
      },
      "source": [
        "best_model = None \r\n",
        "best_depth = None\r\n",
        "least_error = 9999999\r\n",
        "max_depths = [3,4,5,6,7,8,9]\r\n",
        "num_estimators = [100,300,500]\r\n",
        "train_errors = []\r\n",
        "test_errors = []\r\n",
        "for est in num_estimators:\r\n",
        "    for d in max_depths:\r\n",
        "        tr = RandomForestRegressor(n_estimators=est, max_depth=d, n_jobs=-1)\r\n",
        "        tr.fit(X_train, y_train)\r\n",
        "        y_pred = tr.predict(X_train)\r\n",
        "        train_errors.append(mean_squared_error(y_train, y_pred))\r\n",
        "        y_pred1 = tr.predict(X_test)\r\n",
        "        test_er = mean_squared_error(y_test, y_pred1)\r\n",
        "        if test_er < least_error:\r\n",
        "            least_error = test_er\r\n",
        "            best_model = tr\r\n",
        "            best_depth = d\r\n",
        "print(\"Minimum testing error = \" ,least_error)\r\n",
        "print(\"Best Max Depth = \",best_depth)"
      ],
      "execution_count": null,
      "outputs": [
        {
          "output_type": "stream",
          "text": [
            "Minimum testing error =  3302.6145561369085\n",
            "Best Max Depth =  3\n"
          ],
          "name": "stdout"
        }
      ]
    },
    {
      "cell_type": "code",
      "metadata": {
        "id": "tY3U9xYk6OBM"
      },
      "source": [
        ""
      ],
      "execution_count": null,
      "outputs": []
    }
  ]
}